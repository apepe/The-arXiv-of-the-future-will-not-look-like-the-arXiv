{
 "cells": [
  {
   "cell_type": "code",
   "execution_count": 106,
   "metadata": {
    "collapsed": true
   },
   "outputs": [],
   "source": [
    "import matplotlib.pyplot as plt\n",
    "import numpy as np\n",
    "from numpy import loadtxt\n",
    "from scipy.optimize import curve_fit\n",
    "import matplotlib as mpl\n",
    "import decimal\n",
    "from mpl_toolkits.axes_grid1.inset_locator import zoomed_inset_axes\n",
    "from mpl_toolkits.axes_grid1.inset_locator import inset_axes\n",
    "from mpl_toolkits.axes_grid1.inset_locator import mark_inset\n",
    "\n",
    "\n",
    "font = {'family' : 'normal',\n",
    "        'weight' : 'bold',\n",
    "        'size'   : 18}\n",
    "mpl.rcParams['font.size'] = 16.\n",
    "mpl.rcParams['axes.linewidth'] = 1.2"
   ]
  },
  {
   "cell_type": "code",
   "execution_count": 107,
   "metadata": {
    "collapsed": true
   },
   "outputs": [],
   "source": [
    "ORANGE     = (0.90,0.60,0.00)\n",
    "SKY_BLUE   = (0.35,0.70,0.90)\n",
    "BLUE_GREEN = (0.00,0.60,0.50)\n",
    "YELLOW     = (0.95,0.90,0.25)\n",
    "BLUE       = (0.00,0.45,0.70)\n",
    "VERMILLION = (0.80,0.40,0.00)\n",
    "RED_PURPLE = (0.80,0.60,0.70)\n",
    "col=[ORANGE,SKY_BLUE,BLUE_GREEN,VERMILLION,RED_PURPLE]\n",
    "st='-'\n",
    "lt=4"
   ]
  },
  {
   "cell_type": "code",
   "execution_count": 108,
   "metadata": {
    "collapsed": false
   },
   "outputs": [
    {
     "name": "stderr",
     "output_type": "stream",
     "text": [
      "/Users/mcantiello/anaconda/lib/python3.5/site-packages/matplotlib/pyplot.py:524: RuntimeWarning: More than 20 figures have been opened. Figures created through the pyplot interface (`matplotlib.pyplot.figure`) are retained until explicitly closed and may consume too much memory. (To control this warning, see the rcParam `figure.max_open_warning`).\n",
      "  max_open_warning, RuntimeWarning)\n"
     ]
    },
    {
     "name": "stdout",
     "output_type": "stream",
     "text": [
      "[ 2006.07692308  2006.16025641  2006.24358974  2006.32692308  2006.41025641\n",
      "  2006.49358974  2006.57692308  2006.66025641  2006.74358974  2006.82692308\n",
      "  2006.91025641  2006.99358974  2007.07692308  2007.16025641  2007.24358974\n",
      "  2007.32692308  2007.41025641  2007.49358974  2007.57692308  2007.66025641\n",
      "  2007.74358974  2007.82692308  2007.91025641  2007.99358974  2008.07692308\n",
      "  2008.16025641  2008.24358974  2008.32692308  2008.41025641  2008.49358974\n",
      "  2008.57692308  2008.66025641  2008.74358974  2008.82692308  2008.91025641\n",
      "  2008.99358974  2009.07692308  2009.16025641  2009.24358974  2009.32692308\n",
      "  2009.41025641  2009.49358974  2009.57692308  2009.66025641  2009.74358974\n",
      "  2009.82692308  2009.91025641  2009.99358974  2010.07692308  2010.16025641\n",
      "  2010.24358974  2010.32692308  2010.41025641  2010.49358974  2010.57692308\n",
      "  2010.66025641  2010.74358974  2010.82692308  2010.91025641  2010.99358974\n",
      "  2011.07692308  2011.16025641  2011.24358974  2011.32692308  2011.41025641\n",
      "  2011.49358974  2011.57692308  2011.66025641  2011.74358974  2011.82692308\n",
      "  2011.91025641  2011.99358974  2012.07692308  2012.16025641  2012.24358974\n",
      "  2012.32692308  2012.41025641  2012.49358974  2012.57692308  2012.66025641\n",
      "  2012.74358974  2012.82692308  2012.91025641  2012.99358974  2013.07692308\n",
      "  2013.16025641  2013.24358974  2013.32692308  2013.41025641  2013.49358974\n",
      "  2013.57692308  2013.66025641  2013.74358974  2013.82692308  2013.91025641\n",
      "  2013.99358974  2014.07692308  2014.16025641  2014.24358974  2014.32692308\n",
      "  2014.41025641  2014.49358974  2014.57692308  2014.66025641  2014.74358974\n",
      "  2014.82692308  2014.91025641  2014.99358974  2015.07692308  2015.16025641\n",
      "  2015.24358974  2015.32692308  2015.41025641  2015.49358974  2015.57692308\n",
      "  2015.66025641  2015.74358974  2015.82692308  2015.91025641  2015.99358974\n",
      "  2016.07692308  2016.16025641  2016.24358974  2016.32692308  2016.41025641\n",
      "  2016.49358974  2016.57692308  2016.66025641  2016.74358974  2016.82692308\n",
      "  2016.91025641  2016.99358974  2017.07692308]\n",
      "32284.0\n",
      "1263265.0\n"
     ]
    }
   ],
   "source": [
    "fig = plt.figure(figsize=(10,8))\n",
    "ax = fig.add_axes([0.12, 0.12, 0.8, 0.8])\n",
    "DATA='preprints.txt'\n",
    "dat = loadtxt(DATA, unpack=True) # Read Data\n",
    "\n",
    "#Order of the data is arXiv q-bio, Nature Precedings, F1000Research, PeerJ Preprints, bioRxiv, The Winnower, preprints.org, Wellcome Open Research\n",
    "#First month is January 2006, last month is January 2017\n",
    "\n",
    "t_start=2006+1./13.\n",
    "t_end=2017+1./13.\n",
    "\n",
    "\n",
    "life_sciences=dat.sum(axis=1, dtype='float') # Create array from sums of all submissions per month\n",
    "\n",
    "\n",
    "time_life_sciences=np.arange(0,np.size(life_sciences),1)\n",
    "time_life_sciences=t_start+time_life_sciences/12.0\n",
    "print(time_life_sciences)\n",
    "\n",
    "total_subs=np.sum(dat)\n",
    "print(total_subs) # Total number of submissions\n",
    "\n",
    "#print(dat[132][:]) # Month, Values\n",
    "#print(life_sciences[:])\n",
    "\n",
    "ARXIV='arxiv.txt'\n",
    "arx = loadtxt(ARXIV, unpack=True)\n",
    "years=arx[0]+arx[1]/13. # Transform year, months into increamental years\n",
    "articles=arx[2]\n",
    "\n",
    "total_arx=np.sum(articles)\n",
    "print(total_arx)\n",
    "\n",
    "ax.plot(years,articles,linestyle=st,linewidth=4,color=col[2],alpha=0.8,label='arXiv')\n",
    "ax.plot(time_life_sciences,life_sciences,linestyle=st,linewidth=4,color=col[1],alpha=0.8,label='Life sciences')\n",
    "#ax.set_yscale(\"log\", nonposy='clip')\n",
    "\n",
    "plt.ylim([0,10500])\n",
    "plt.xlim([1991,2017.2])\n",
    "# Axis, Range, Legend...\n",
    "ax.set_xlabel(\"Year\")\n",
    "ax.set_ylabel('Submissions')\n",
    "\n",
    "label=plt.legend(loc='best')\n",
    "label.draw_frame(False)\n",
    "\n",
    "#inset_axes = inset_axes(ax,\n",
    "#                        width=\"40%\", # width = 30% of parent_bbox\n",
    "#                        height=2., # height : 1 inch\n",
    "#                        loc=2)\n",
    "\n",
    "ax2 = inset_axes(ax, width=3, height=2,  loc=3, \n",
    "                 bbox_to_anchor=(0.17, 0.48), \n",
    "                 bbox_transform=ax.figure.transFigure) \n",
    "#ax2.plot(years,articles,linestyle=st,linewidth=4,color=col[2],alpha=0.8)\n",
    "ax2.plot(time_life_sciences,life_sciences,linestyle=st,linewidth=4,color=col[1],alpha=0.8)\n",
    "for label in ax2.xaxis.get_majorticklabels():\n",
    "        label.set_fontsize(10)\n",
    "        #label.set_fontname('courier')\n",
    "for label in ax2.yaxis.get_majorticklabels():\n",
    "        label.set_fontsize(10)\n",
    "        #label.set_fontname('courier')\n",
    "\n",
    "ax2.set_ylim([0,1000])\n",
    "ax2.set_xlim([2005.1,2017.2])        \n",
    "\n",
    "        \n",
    "#ax2.set_yscale(\"log\", nonposy='clip')\n",
    "#ax2.set_xlabel(\"Year\")\n",
    "#ax2.set_ylabel('Submissions')\n",
    "\n",
    "#inset_axes = zoomed_inset_axes(ax,\n",
    "#                               0.5, # zoom = 0.5\n",
    "#                               loc=1)\n",
    "\n",
    "FILENAME = \"preprint_inset.pdf\"\n",
    "plt.savefig(FILENAME)\n",
    "\n",
    "#plt.show()\n",
    "#print(arx[0][0],arx[1][0],arx[2][0])\n",
    "#print(years)"
   ]
  },
  {
   "cell_type": "code",
   "execution_count": null,
   "metadata": {
    "collapsed": true
   },
   "outputs": [],
   "source": []
  }
 ],
 "metadata": {
  "anaconda-cloud": {},
  "kernelspec": {
   "display_name": "Python [conda root]",
   "language": "python",
   "name": "conda-root-py"
  },
  "language_info": {
   "codemirror_mode": {
    "name": "ipython",
    "version": 3
   },
   "file_extension": ".py",
   "mimetype": "text/x-python",
   "name": "python",
   "nbconvert_exporter": "python",
   "pygments_lexer": "ipython3",
   "version": "3.5.2"
  }
 },
 "nbformat": 4,
 "nbformat_minor": 1
}
