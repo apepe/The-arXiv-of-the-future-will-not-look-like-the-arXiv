{
 "cells": [
  {
   "cell_type": "code",
   "execution_count": 46,
   "metadata": {
    "collapsed": true
   },
   "outputs": [],
   "source": [
    "import matplotlib.pyplot as plt\n",
    "import numpy as np\n",
    "from numpy import loadtxt\n",
    "from scipy.optimize import curve_fit\n",
    "import matplotlib as mpl\n",
    "import decimal\n",
    "from mpl_toolkits.axes_grid1.inset_locator import inset_axes\n",
    "\n",
    "\n",
    "font = {'family' : 'normal',\n",
    "        'weight' : 'bold',\n",
    "        'size'   : 18}\n",
    "mpl.rcParams['font.size'] = 16.\n",
    "mpl.rcParams['axes.linewidth'] = 1.2"
   ]
  },
  {
   "cell_type": "code",
   "execution_count": 47,
   "metadata": {
    "collapsed": true
   },
   "outputs": [],
   "source": [
    "ORANGE     = (0.90,0.60,0.00)\n",
    "SKY_BLUE   = (0.35,0.70,0.90)\n",
    "BLUE_GREEN = (0.00,0.60,0.50)\n",
    "YELLOW     = (0.95,0.90,0.25)\n",
    "BLUE       = (0.00,0.45,0.70)\n",
    "VERMILLION = (0.80,0.40,0.00)\n",
    "RED_PURPLE = (0.80,0.60,0.70)\n",
    "col=[ORANGE,SKY_BLUE,BLUE_GREEN,VERMILLION,RED_PURPLE]\n",
    "st='-'\n",
    "lt=4"
   ]
  },
  {
   "cell_type": "code",
   "execution_count": 48,
   "metadata": {
    "collapsed": false
   },
   "outputs": [
    {
     "name": "stdout",
     "output_type": "stream",
     "text": [
      "Total number of Life Sciences submissions:  32284.0\n",
      "Total number of arXiv submissions:  1263265.0\n"
     ]
    }
   ],
   "source": [
    "fig = plt.figure(figsize=(10,8))\n",
    "ax = fig.add_axes([0.12, 0.12, 0.8, 0.8])\n",
    "DATA='preprints.txt'\n",
    "dat = loadtxt(DATA, unpack=True) # Read Life Sciences Data\n",
    "\n",
    "## Order of the data is arXiv q-bio, Nature Precedings, F1000Research, PeerJ Preprints, bioRxiv, The Winnower, preprints.org, Wellcome Open Research\n",
    "## First month is January 2006, last month is January 2017\n",
    "\n",
    "t_start=2006 \n",
    "t_end=2017 \n",
    "\n",
    "n_lifesciences=dat.sum(axis=1, dtype='float') # Create array from sums of all submissions per month\n",
    "t_lifesciences=np.arange(0,np.size(n_lifesciences),1) # Prepare time array \n",
    "t_lifesciences=t_start+t_lifesciences/12.0 # Transform year + month to fractional year\n",
    "\n",
    "\n",
    "\n",
    "sum_lifesciences=np.sum(dat)\n",
    "print('Total number of Life Sciences submissions: ',sum_lifesciences) # Total number of submissions in Life Sciences\n",
    "\n",
    "\n",
    "ARXIV='arxiv.txt' # Read arXiv Data\n",
    "arx = loadtxt(ARXIV, unpack=True)\n",
    "t_arxiv=arx[0]+arx[1]/12. # Transform year + month to fractional year \n",
    "n_arxiv=arx[2]\n",
    "\n",
    "\n",
    "sum_n_arxiv=np.sum(n_arxiv)\n",
    "print('Total number of arXiv submissions: ',sum_n_arxiv)\n",
    "\n",
    "## Plot \n",
    "ax.plot(t_arxiv,n_arxiv,linestyle=st,linewidth=4,color=col[2],alpha=0.8,label='arXiv')\n",
    "ax.plot(t_lifesciences,n_lifesciences,linestyle=st,linewidth=4,color=col[1],alpha=0.8,label='Life sciences')\n",
    "\n",
    "plt.ylim([0,10500])\n",
    "plt.xlim([1991,2017.2])\n",
    "## Axis, Range, Legend...\n",
    "ax.set_xlabel(\"Year\")\n",
    "ax.set_ylabel('Submissions')\n",
    "\n",
    "label=plt.legend(loc='best')\n",
    "label.draw_frame(False)\n",
    "\n",
    "## Add inset plot \n",
    "ax2 = inset_axes(ax, width=3, height=2,  loc=3, \n",
    "                 bbox_to_anchor=(0.17, 0.48), \n",
    "                 bbox_transform=ax.figure.transFigure) \n",
    "ax2.plot(t_lifesciences,n_lifesciences,linestyle=st,linewidth=4,color=col[1],alpha=0.8)\n",
    "for label in ax2.xaxis.get_majorticklabels():\n",
    "        label.set_fontsize(10)\n",
    "        #label.set_fontname('courier')\n",
    "for label in ax2.yaxis.get_majorticklabels():\n",
    "        label.set_fontsize(10)\n",
    "        #label.set_fontname('courier')\n",
    "\n",
    "ax2.set_ylim([0,1000])\n",
    "ax2.set_xlim([2005.0,2017.2])        \n",
    "\n",
    "## Uncomment below to print to PDF \n",
    "FILENAME = \"preprint_inset.pdf\"\n",
    "plt.savefig(FILENAME)\n",
    "\n",
    "## Uncomment below to show plot\n",
    "#plt.show()\n"
   ]
  },
  {
   "cell_type": "code",
   "execution_count": null,
   "metadata": {
    "collapsed": true
   },
   "outputs": [],
   "source": []
  }
 ],
 "metadata": {
  "anaconda-cloud": {},
  "kernelspec": {
   "display_name": "Python [conda root]",
   "language": "python",
   "name": "conda-root-py"
  },
  "language_info": {
   "codemirror_mode": {
    "name": "ipython",
    "version": 3
   },
   "file_extension": ".py",
   "mimetype": "text/x-python",
   "name": "python",
   "nbconvert_exporter": "python",
   "pygments_lexer": "ipython3",
   "version": "3.5.2"
  }
 },
 "nbformat": 4,
 "nbformat_minor": 1
}
